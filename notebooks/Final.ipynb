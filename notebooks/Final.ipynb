{
  "nbformat": 4,
  "nbformat_minor": 2,
  "metadata": {
    "accelerator": "GPU",
    "colab": {
      "name": "Final.ipynb",
      "provenance": [],
      "collapsed_sections": [],
      "toc_visible": true
    },
    "kernelspec": {
      "display_name": "Python 3",
      "language": "python",
      "name": "python3"
    },
    "language_info": {
      "codemirror_mode": {
        "name": "ipython",
        "version": 3
      },
      "file_extension": ".py",
      "mimetype": "text/x-python",
      "name": "python",
      "nbconvert_exporter": "python",
      "pygments_lexer": "ipython3",
      "version": "3.7.7"
    }
  },
  "cells": [
    {
      "cell_type": "markdown",
      "source": [
        "\n",
        "## Importing Saved weights and files"
      ],
      "metadata": {
        "id": "EzUHcPgmgy19"
      }
    },
    {
      "cell_type": "code",
      "execution_count": null,
      "source": [
        "!unzip files"
      ],
      "outputs": [],
      "metadata": {
        "colab": {
          "base_uri": "https://localhost:8080/"
        },
        "id": "cgDYvL2Diw81",
        "outputId": "9656f50c-f8f0-46df-ab0b-36b0eb656811"
      }
    },
    {
      "cell_type": "markdown",
      "source": [
        "Dataset found here: https://www.kaggle.com/anujms/car-damage-detection"
      ],
      "metadata": {}
    },
    {
      "cell_type": "markdown",
      "source": [],
      "metadata": {}
    },
    {
      "cell_type": "markdown",
      "source": [
        "## Importing libraries"
      ],
      "metadata": {
        "id": "5J4YwSWfT7ZC"
      }
    },
    {
      "cell_type": "code",
      "execution_count": null,
      "source": [
        "import pandas as pd\n",
        "import matplotlib.pyplot as plt\n",
        "import seaborn as sns\n",
        "import numpy as np\n",
        "import os\n",
        "import re\n",
        "import random\n",
        "from tqdm import tqdm\n",
        "import tensorflow as tf\n",
        "import cv2\n",
        "from tensorflow.keras.preprocessing.image import ImageDataGenerator\n",
        "from tensorflow.keras.preprocessing.image import load_img,img_to_array\n",
        "from tensorflow.keras.models import Sequential, Model, load_model\n",
        "!pip install flask-ngrok\n",
        "import io\n",
        "from base64 import encodebytes\n",
        "from PIL import Image\n",
        "from flask import jsonify\n",
        "import json"
      ],
      "outputs": [],
      "metadata": {
        "id": "vlJsiDoQT7ZD",
        "colab": {
          "base_uri": "https://localhost:8080/"
        },
        "outputId": "59cf1858-3e74-429b-a226-85c88c9c9a51"
      }
    },
    {
      "cell_type": "markdown",
      "source": [
        "## Importing Saved models"
      ],
      "metadata": {
        "id": "g7Xa6cAyT7ZE"
      }
    },
    {
      "cell_type": "code",
      "execution_count": null,
      "source": [
        "Stage_1_model = load_model('densenet_stage1_all-0.959.hdf5')\n",
        "Stage_2_model = load_model('densenet_stage2_all-0.804.hdf5')\n",
        "Stage_3_model = load_model('densenet_stage3_all-0.696.hdf5')"
      ],
      "outputs": [],
      "metadata": {
        "id": "mIMemWCOT7ZE"
      }
    },
    {
      "cell_type": "markdown",
      "source": [
        "## Importing Darknet git"
      ],
      "metadata": {
        "id": "reunA7rXhXz5"
      }
    },
    {
      "cell_type": "code",
      "execution_count": null,
      "source": [
        "!/usr/local/cuda/bin/nvcc --version\n",
        "# Check if GPU is selected as hardware accelerator\n",
        "import tensorflow as tf\n",
        "device_name = tf.test.gpu_device_name()\n",
        "if not '/device:GPU:0' in device_name:\n",
        "    print('\\nERROR: GPU is not selected as hardware accelerator!')\n",
        "else:\n",
        "    print(device_name)"
      ],
      "outputs": [],
      "metadata": {
        "colab": {
          "base_uri": "https://localhost:8080/"
        },
        "id": "h7SwCpTrjZqs",
        "outputId": "ef98be5b-16f9-43f3-a908-d12634b72995"
      }
    },
    {
      "cell_type": "code",
      "execution_count": null,
      "source": [
        "!git clone https://github.com/AlexeyAB/darknet\n",
        "%cd darknet\n",
        "!ls\n",
        "!sed -i 's/OPENCV=0/OPENCV=1/g' Makefile\n",
        "!sed -i 's/GPU=0/GPU=1/g' Makefile\n",
        "!make\n",
        "%cd /content/"
      ],
      "outputs": [],
      "metadata": {
        "colab": {
          "base_uri": "https://localhost:8080/"
        },
        "id": "5zFNkzf_hXLu",
        "outputId": "de9dae7d-94c8-4a77-9463-29529de23dc4"
      }
    },
    {
      "cell_type": "markdown",
      "source": [
        "## Generating report for a given Image"
      ],
      "metadata": {
        "id": "YiN4W_nDT7ZF"
      }
    },
    {
      "cell_type": "code",
      "execution_count": null,
      "source": [
        "#Creating a single function which predicts wether Car is damaged or not and localizing the damage, severity of damage for a single img\n",
        "def report(img_path):\n",
        "    report_pred = []\n",
        "    #Creating Train and test txt files:\n",
        "    test_file = open('/content/test.txt','w')\n",
        "    test_file.write('/content/'+img_path+'\\n')\n",
        "    test_file.close()\n",
        "    \n",
        "    img = load_img('/content/'+img_path,target_size = (256,256))\n",
        "    #Converting into array\n",
        "    img_arr = img_to_array(img)\n",
        "    img_arr = img_arr.reshape((1,) + img_arr.shape)\n",
        "    \n",
        "    #Checking if Damaged or not\n",
        "    s1_pred = Stage_1_model.predict(img_arr)\n",
        "    if s1_pred <=0.5:\n",
        "        report_pred.append('Damaged')\n",
        "    else:\n",
        "        report_pred.append('Not Damaged')\n",
        "        return report_pred\n",
        "    #Checking for Damage Localization\n",
        "    s2_pred = Stage_2_model.predict(img_arr)\n",
        "    n = np.argmax(s2_pred)\n",
        "    if n == 0:\n",
        "        report_pred.append('Front')\n",
        "    elif n ==1:\n",
        "        report_pred.append('Rear')\n",
        "    else:\n",
        "        report_pred.append('Side')\n",
        "    \n",
        "    #Checking for Damage Severity\n",
        "    s3_pred = Stage_3_model.predict(img_arr)\n",
        "    c = np.argmax(s3_pred)\n",
        "    if c == 0:\n",
        "        report_pred.append('Minor')\n",
        "    elif c ==1:\n",
        "        report_pred.append('Moderate')\n",
        "    elif c==2:\n",
        "        report_pred.append('Severe')\n",
        "\n",
        "    image_path = '/content/'+img_path\n",
        "        \n",
        "    #Using YOLO to detect the damage type\n",
        "    %cd darknet\n",
        "    temp = !./darknet detector test /content/custom.data /content/yolov3_custom.cfg /content/yolov3_custom_4000.weights -dont_show </content/test.txt> result.txt\n",
        "\n",
        "    predicted = load_img('predictions.jpg')\n",
        "    predicted.save('/content/pred.jpg')\n",
        "    \n",
        "    %cd /content/\n",
        "\n",
        "    return report_pred"
      ],
      "outputs": [],
      "metadata": {
        "id": "brMYFKFgT7ZF"
      }
    },
    {
      "cell_type": "code",
      "execution_count": null,
      "source": [
        "def get_response_image(image_path):\n",
        "    pil_img = Image.open(image_path, mode='r') # reads the PIL image\n",
        "    byte_arr = io.BytesIO()\n",
        "    pil_img.save(byte_arr, format='PNG') # convert the PIL image to byte array\n",
        "    encoded_img = encodebytes(byte_arr.getvalue()).decode('ascii') # encode as base64\n",
        "    return encoded_img"
      ],
      "outputs": [],
      "metadata": {
        "id": "169pHYy7h9jR"
      }
    },
    {
      "cell_type": "code",
      "execution_count": null,
      "source": [
        "from flask_ngrok import run_with_ngrok\n",
        "from flask import Flask, render_template\n",
        "from werkzeug.utils import secure_filename\n",
        "from flask import send_file\n",
        "from flask import Flask, redirect, url_for, request, render_template\n",
        "app = Flask(__name__)\n",
        "   #starts ngrok when the app is run\n",
        "\n",
        "@app.route(\"/\", methods=[\"GET\", \"POST\"])\n",
        "def home():\n",
        "    return render_template('app.html')\n",
        "\n",
        "@app.route('/predict', methods=['GET', 'POST'])\n",
        "def upload():\n",
        "\tif request.method == 'POST':\n",
        "\t\tf = request.files['file']\n",
        "\t\tfilepath = os.path.join('/content/',f.filename)\n",
        "\t\tf.save(filepath)\n",
        "\tpreds = report(f.filename)\n",
        "\tencoded_img = get_response_image('pred.jpg')\n",
        "\tif preds[0] == 'Damaged':\n",
        "\t\tjsonObject = {\"msg\":\"The vehicle is damaged on the \"+preds[1]+\" suffering \"+preds[2]+\" damages. Below is the type of damage detected.\",\"encodedImg\":'<img src=\"data:image/png;base64, '+encoded_img+' alt=\"Red dot\" style=\"width:400px;height:400px;\" />'}\n",
        "\t\treturn json.dumps(jsonObject)\n",
        "\telse:\n",
        "\t\tjsonObject = {\"msg\":\"Are you sure the vehicle is damaged?. Please check once.\"}\n",
        "\t\treturn json.dumps(jsonObject)"
      ],
      "outputs": [],
      "metadata": {
        "id": "HYg6HL0bB1xM"
      }
    },
    {
      "cell_type": "code",
      "execution_count": null,
      "source": [
        "run_with_ngrok(app)\n",
        "if __name__ == \"__main__\":\n",
        "    app.run()"
      ],
      "outputs": [],
      "metadata": {
        "colab": {
          "base_uri": "https://localhost:8080/"
        },
        "id": "UqtBSspaB1zu",
        "outputId": "e64a5c83-264e-4097-c16c-8c367df515e1"
      }
    }
  ]
}